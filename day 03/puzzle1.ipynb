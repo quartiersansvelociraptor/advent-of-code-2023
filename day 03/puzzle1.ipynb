{
 "cells": [
  {
   "cell_type": "code",
   "execution_count": 1,
   "metadata": {},
   "outputs": [
    {
     "name": "stdout",
     "output_type": "stream",
     "text": [
      "['467..114..', '...*......', '..35..633.', '......#...', '617*......', '.....+.58.', '..592.....', '......755.', '...$.*....', '.664.598..']\n"
     ]
    }
   ],
   "source": [
    "with open(\"example1.txt\", \"r\") as readfile:\n",
    "    a = readfile.read()\n",
    "    lines = a.split(\"\\n\")\n",
    "    print(lines)"
   ]
  },
  {
   "cell_type": "code",
   "execution_count": null,
   "metadata": {},
   "outputs": [],
   "source": [
    "coords_number = []\n",
    "coords_symbol = []\n",
    "\n",
    "for x, line in enumerate(lines):\n",
    "    for y, character in enumerate(line):\n",
    "        if character.isnumeric():\n",
    "            coords_number.append((x,y))\n",
    "        elif not character.isalnum() and character != '.':\n",
    "            coords_symbol.append((x,y))\n",
    "            #comment"
   ]
  },
  {
   "cell_type": "code",
   "execution_count": null,
   "metadata": {},
   "outputs": [
    {
     "data": {
      "text/plain": [
       "[(1, 3), (3, 6), (4, 3), (5, 5), (8, 3), (8, 5)]"
      ]
     },
     "execution_count": 15,
     "metadata": {},
     "output_type": "execute_result"
    }
   ],
   "source": [
    "def right(x,y):\n",
    "    if lines[x][y+1].isnumeric()\n"
   ]
  }
 ],
 "metadata": {
  "kernelspec": {
   "display_name": "Python 3",
   "language": "python",
   "name": "python3"
  },
  "language_info": {
   "codemirror_mode": {
    "name": "ipython",
    "version": 3
   },
   "file_extension": ".py",
   "mimetype": "text/x-python",
   "name": "python",
   "nbconvert_exporter": "python",
   "pygments_lexer": "ipython3",
   "version": "3.12.1"
  }
 },
 "nbformat": 4,
 "nbformat_minor": 2
}
