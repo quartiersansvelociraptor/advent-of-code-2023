{
 "cells": [
  {
   "cell_type": "code",
   "execution_count": 36,
   "metadata": {},
   "outputs": [],
   "source": [
    "def read_file(path):\n",
    "    with open(path, \"r\") as readfile:\n",
    "        a = readfile.read()\n",
    "    return a"
   ]
  },
  {
   "cell_type": "code",
   "execution_count": 37,
   "metadata": {},
   "outputs": [],
   "source": [
    "def split_trajectory(input):\n",
    "    santa_commands = []\n",
    "    robo_commands = []\n",
    "\n",
    "    for index, value in enumerate(input):\n",
    "        if index == 0 or index%2 == 0:\n",
    "            santa_commands.append(value)\n",
    "        else:\n",
    "            robo_commands.append(value)\n",
    "\n",
    "    return santa_commands, robo_commands"
   ]
  },
  {
   "cell_type": "code",
   "execution_count": 38,
   "metadata": {},
   "outputs": [],
   "source": [
    "def trajectory_calculator(input):\n",
    "    trajectory = [(0,0)]\n",
    "\n",
    "    for direction in input:\n",
    "        if direction == \"^\":\n",
    "            x, y = trajectory[-1][0], trajectory[-1][1] + 1\n",
    "        elif direction == \">\":\n",
    "            x, y = trajectory[-1][0] + 1, trajectory[-1][1]\n",
    "        elif direction == \"v\":\n",
    "            x, y = trajectory[-1][0], trajectory[-1][1] - 1\n",
    "        elif direction == \"<\":\n",
    "            x, y = trajectory[-1][0] - 1, trajectory[-1][1]\n",
    "\n",
    "        trajectory.append((x,y))\n",
    "    \n",
    "    return trajectory"
   ]
  },
  {
   "cell_type": "code",
   "execution_count": 39,
   "metadata": {},
   "outputs": [],
   "source": [
    "input = read_file(\"input01.txt\")\n",
    "santa_commands, robo_commands = split_trajectory(input)\n",
    "santa_trajectory = trajectory_calculator(santa_commands)\n",
    "robo_trajectory = trajectory_calculator(robo_commands)"
   ]
  },
  {
   "cell_type": "code",
   "execution_count": 40,
   "metadata": {},
   "outputs": [
    {
     "data": {
      "text/plain": [
       "2631"
      ]
     },
     "execution_count": 40,
     "metadata": {},
     "output_type": "execute_result"
    }
   ],
   "source": [
    "combined_list = list(set(santa_trajectory + robo_trajectory))\n",
    "\n",
    "len(combined_list)"
   ]
  }
 ],
 "metadata": {
  "kernelspec": {
   "display_name": "Python 3",
   "language": "python",
   "name": "python3"
  },
  "language_info": {
   "codemirror_mode": {
    "name": "ipython",
    "version": 3
   },
   "file_extension": ".py",
   "mimetype": "text/x-python",
   "name": "python",
   "nbconvert_exporter": "python",
   "pygments_lexer": "ipython3",
   "version": "3.12.1"
  }
 },
 "nbformat": 4,
 "nbformat_minor": 2
}
