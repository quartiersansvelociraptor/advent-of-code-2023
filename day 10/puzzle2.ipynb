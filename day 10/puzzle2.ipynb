{
 "cells": [
  {
   "cell_type": "code",
   "execution_count": 214,
   "metadata": {},
   "outputs": [],
   "source": [
    "import numpy as np"
   ]
  },
  {
   "cell_type": "code",
   "execution_count": 215,
   "metadata": {},
   "outputs": [],
   "source": [
    "with open(\"example5.txt\", \"r\") as readfile:\n",
    "    a = readfile.read()\n",
    "    lines = a.split(\"\\n\")"
   ]
  },
  {
   "cell_type": "code",
   "execution_count": 216,
   "metadata": {},
   "outputs": [],
   "source": [
    "def start_position(lines):\n",
    "    #It checks where is the start position and returns its coordinates\n",
    "\n",
    "    for idx, line in enumerate(lines):\n",
    "        for idy, character in enumerate(line):\n",
    "            if (character == 'S'):\n",
    "                return (idx,idy)"
   ]
  },
  {
   "cell_type": "code",
   "execution_count": 217,
   "metadata": {},
   "outputs": [],
   "source": [
    "def first_iteration(idx,idy):\n",
    "    #It checks in clockwise direction starting from the north what is the next step in the path, and returns its coordinates\n",
    "    #north\n",
    "    if (lines[idx-1][idy] == '|'):\n",
    "        return (idx-1, idy, \"S\")\n",
    "   #north east\n",
    "    elif (lines[idx-1][idy] == 'F'):\n",
    "        return (idx-1, idy+1, \"S\")\n",
    "    #east\n",
    "    elif (lines[idx][idy+1] == '-'):\n",
    "        return (idx, idy+1, \"W\")\n",
    "    elif (lines[idx][idy+1] == '7'):\n",
    "        return (idx+1, idy+1, 'N')\n",
    "    #south east\n",
    "    elif (lines[idx+1][idy+1] == 'L'):\n",
    "        return (idx+1, idy+1, \"W\")\n",
    "    #south\n",
    "    elif (lines[idx+1][idy] == '|'):\n",
    "        return (idx+1, idy, \"N\")\n",
    "    #south west\n",
    "    elif (lines[idx+1][idy-1] == 'J'):\n",
    "        return (idx+1, idy-1, \"N\")\n",
    "    #west\n",
    "    elif (lines[idx][idy-1] == '-'):\n",
    "        return (idx, idy-1, \"E\")\n",
    "    #northwest\n",
    "    elif (lines[idx-1][idy-1] == 'L'):\n",
    "        return (idx-1, idy-1, \"E\")"
   ]
  },
  {
   "cell_type": "code",
   "execution_count": 218,
   "metadata": {},
   "outputs": [],
   "source": [
    "def next_iterations(idx,idy,origen):\n",
    "    #It computes the next coordinates of the path\n",
    "    if (lines[idx][idy] == \"|\"):\n",
    "        if (origen == \"S\"):\n",
    "            return (idx-1, idy, \"S\")\n",
    "        elif (origen == \"N\"):\n",
    "            return (idx+1, idy, \"N\")\n",
    "    elif (lines[idx][idy] == \"-\"):\n",
    "        if (origen == \"E\"):\n",
    "            return (idx,idy-1, \"E\")\n",
    "        elif (origen == \"W\"):\n",
    "            return (idx, idy+1, \"W\")\n",
    "    elif (lines[idx][idy] == \"L\"):\n",
    "        if (origen == \"E\"):\n",
    "            return (idx-1, idy, \"S\")\n",
    "        elif (origen == \"N\"):\n",
    "            return (idx, idy+1, \"W\")\n",
    "    elif (lines[idx][idy] == \"J\"):\n",
    "        if (origen == \"N\"):\n",
    "            return (idx, idy-1, \"E\")\n",
    "        elif (origen == \"W\"):\n",
    "            return (idx-1, idy, \"S\")\n",
    "    elif (lines[idx][idy] == \"7\"):\n",
    "        if (origen == \"S\"):\n",
    "            return (idx, idy-1, \"E\")\n",
    "        elif (origen == \"W\"):\n",
    "            return (idx+1, idy, \"N\")\n",
    "    elif (lines[idx][idy] == \"F\"):\n",
    "        if (origen == \"S\"):\n",
    "            return (idx, idy+1, \"W\")\n",
    "        elif (origen == \"E\"):\n",
    "            return (idx+1, idy, \"N\")\n",
    "    elif (lines[idx][idy] == \"S\"):\n",
    "        return \"end\""
   ]
  },
  {
   "cell_type": "code",
   "execution_count": 219,
   "metadata": {},
   "outputs": [],
   "source": [
    "def trail_func(lines):\n",
    "    #It computes the path to be followed\n",
    "    trail = []\n",
    "    start = start_position(lines)\n",
    "    trail.append(start)\n",
    "    step = first_iteration(start[0], start[1])\n",
    "    trail.append(step[0:2])\n",
    "\n",
    "    while (step != \"end\"):\n",
    "        step = next_iterations(step[0], step[1], step[2])\n",
    "        if isinstance(step[0], int):\n",
    "            trail.append(step[0:2])\n",
    "    \n",
    "    return trail\n",
    "    "
   ]
  },
  {
   "cell_type": "code",
   "execution_count": 220,
   "metadata": {},
   "outputs": [],
   "source": [
    "def zero_matrix(size_x, size_y):\n",
    "    #It creates an empty matrix\n",
    "    zero = np.zeros((size_x, size_y), dtype=int)\n",
    "    return zero"
   ]
  },
  {
   "cell_type": "code",
   "execution_count": 221,
   "metadata": {},
   "outputs": [],
   "source": [
    "zero = zero_matrix(len(lines), len(lines[0]))\n",
    "left = zero_matrix(len(lines), len(lines[0]))\n",
    "right = zero_matrix(len(lines), len(lines[0]))\n",
    "\n",
    "for coord_x, coord_y in trail_func(lines):\n",
    "    zero[coord_x][coord_y] = 1"
   ]
  },
  {
   "cell_type": "code",
   "execution_count": 223,
   "metadata": {},
   "outputs": [],
   "source": [
    "n = 0\n",
    "\n",
    "for idx, row in enumerate(zero):\n",
    "    for idy, value in enumerate(row):\n",
    "        n = n + value\n",
    "        if ((n%2 != 0) and (value == 0)):\n",
    "            left[idx][idy] = 1\n",
    "    n = 0\n",
    "\n",
    "for idx, row in enumerate(zero):\n",
    "    for idy, value in enumerate(reversed(row)):\n",
    "        #print(idx, idy, value)\n",
    "        n = n + value\n",
    "        if ((n%2 != 0) and (value == 0)):\n",
    "            right[idx][idy] = 1\n",
    "    n = 0\n",
    "\n",
    "right = right[:, ::-1]  \n",
    "\n",
    "overlap = left + right"
   ]
  },
  {
   "cell_type": "code",
   "execution_count": 210,
   "metadata": {},
   "outputs": [
    {
     "name": "stdout",
     "output_type": "stream",
     "text": [
      "4\n"
     ]
    }
   ],
   "source": [
    "n = 0\n",
    "\n",
    "for ix, row in enumerate(overlap):\n",
    "    for iy, value in enumerate(row):\n",
    "        if (value == 2):\n",
    "            n = n + 1\n",
    "print(n)"
   ]
  }
 ],
 "metadata": {
  "kernelspec": {
   "display_name": "Python 3",
   "language": "python",
   "name": "python3"
  },
  "language_info": {
   "codemirror_mode": {
    "name": "ipython",
    "version": 3
   },
   "file_extension": ".py",
   "mimetype": "text/x-python",
   "name": "python",
   "nbconvert_exporter": "python",
   "pygments_lexer": "ipython3",
   "version": "3.12.1"
  }
 },
 "nbformat": 4,
 "nbformat_minor": 2
}
