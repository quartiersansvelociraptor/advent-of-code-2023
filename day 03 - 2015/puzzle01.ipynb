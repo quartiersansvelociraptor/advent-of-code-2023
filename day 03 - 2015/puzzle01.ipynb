{
 "cells": [
  {
   "cell_type": "code",
   "execution_count": 18,
   "metadata": {},
   "outputs": [],
   "source": [
    "def read_file(path):\n",
    "    with open(path, \"r\") as readfile:\n",
    "        a = readfile.read()\n",
    "    return a"
   ]
  },
  {
   "cell_type": "code",
   "execution_count": 19,
   "metadata": {},
   "outputs": [],
   "source": [
    "def trajectory_calculator(input):\n",
    "    trajectory = [(0,0)]\n",
    "\n",
    "    for direction in input:\n",
    "        if direction == \"^\":\n",
    "            x, y = trajectory[-1][0], trajectory[-1][1] + 1\n",
    "        elif direction == \">\":\n",
    "            x, y = trajectory[-1][0] + 1, trajectory[-1][1]\n",
    "        elif direction == \"v\":\n",
    "            x, y = trajectory[-1][0], trajectory[-1][1] - 1\n",
    "        elif direction == \"<\":\n",
    "            x, y = trajectory[-1][0] - 1, trajectory[-1][1]\n",
    "\n",
    "        trajectory.append((x,y))\n",
    "    \n",
    "    return trajectory\n",
    "   "
   ]
  },
  {
   "cell_type": "code",
   "execution_count": 20,
   "metadata": {},
   "outputs": [],
   "source": [
    "def different_houses(trajectory):\n",
    "    l1 = []\n",
    "    count = 0\n",
    "\n",
    "    for item in trajectory:\n",
    "        if item not in l1:\n",
    "            count += 1\n",
    "            l1.append(item)\n",
    "\n",
    "    return count"
   ]
  },
  {
   "cell_type": "code",
   "execution_count": 22,
   "metadata": {},
   "outputs": [
    {
     "data": {
      "text/plain": [
       "2572"
      ]
     },
     "execution_count": 22,
     "metadata": {},
     "output_type": "execute_result"
    }
   ],
   "source": [
    "input = read_file(\"input01.txt\")\n",
    "trajectory = trajectory_calculator(input)\n",
    "different_houses(trajectory)\n"
   ]
  }
 ],
 "metadata": {
  "kernelspec": {
   "display_name": "Python 3",
   "language": "python",
   "name": "python3"
  },
  "language_info": {
   "codemirror_mode": {
    "name": "ipython",
    "version": 3
   },
   "file_extension": ".py",
   "mimetype": "text/x-python",
   "name": "python",
   "nbconvert_exporter": "python",
   "pygments_lexer": "ipython3",
   "version": "3.12.1"
  }
 },
 "nbformat": 4,
 "nbformat_minor": 2
}
