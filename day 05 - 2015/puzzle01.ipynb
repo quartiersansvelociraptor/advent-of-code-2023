{
 "cells": [
  {
   "cell_type": "code",
   "execution_count": 1,
   "metadata": {},
   "outputs": [],
   "source": [
    "def read_file(path):\n",
    "    with open(path, \"r\") as readfile:\n",
    "        a = readfile.read()\n",
    "        lines = a.split('\\n')\n",
    "    return lines"
   ]
  },
  {
   "cell_type": "code",
   "execution_count": 2,
   "metadata": {},
   "outputs": [],
   "source": [
    "def count_vowels(input):\n",
    "    a = input.count('a')\n",
    "    e = input.count('e')\n",
    "    i = input.count('i')\n",
    "    o = input.count('o')\n",
    "    u = input.count('u')\n",
    "\n",
    "    if (a + e + i + o + u) >= 3:\n",
    "        return True\n",
    "    else:\n",
    "        return False"
   ]
  },
  {
   "cell_type": "code",
   "execution_count": 3,
   "metadata": {},
   "outputs": [],
   "source": [
    "def has_repeated_char(input):\n",
    "    for i in range(len(input) - 1):  # Loop through the list up to the second-to-last element\n",
    "        if input[i] == input[i + 1]:  # Check if the current element equals the next one\n",
    "            return True\n",
    "    return False"
   ]
  },
  {
   "cell_type": "code",
   "execution_count": 4,
   "metadata": {},
   "outputs": [],
   "source": [
    "def pairs_not_nice(input):\n",
    "    if 'ab' in input or 'cd' in input or 'pq' in input or 'xy' in input:\n",
    "        return False\n",
    "    else:\n",
    "        return True"
   ]
  },
  {
   "cell_type": "code",
   "execution_count": 5,
   "metadata": {},
   "outputs": [],
   "source": [
    "n = 0\n",
    "\n",
    "input = read_file('input01.txt')\n",
    "for string in input:\n",
    "    if count_vowels(string) and has_repeated_char(string) and pairs_not_nice(string):\n",
    "        n += 1"
   ]
  },
  {
   "cell_type": "code",
   "execution_count": 6,
   "metadata": {},
   "outputs": [
    {
     "data": {
      "text/plain": [
       "238"
      ]
     },
     "execution_count": 6,
     "metadata": {},
     "output_type": "execute_result"
    }
   ],
   "source": [
    "n"
   ]
  }
 ],
 "metadata": {
  "kernelspec": {
   "display_name": "Python 3",
   "language": "python",
   "name": "python3"
  },
  "language_info": {
   "codemirror_mode": {
    "name": "ipython",
    "version": 3
   },
   "file_extension": ".py",
   "mimetype": "text/x-python",
   "name": "python",
   "nbconvert_exporter": "python",
   "pygments_lexer": "ipython3",
   "version": "3.12.1"
  }
 },
 "nbformat": 4,
 "nbformat_minor": 2
}
