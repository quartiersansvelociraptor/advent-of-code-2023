{
 "cells": [
  {
   "cell_type": "code",
   "execution_count": 13,
   "metadata": {},
   "outputs": [],
   "source": [
    "def read_file(path):\n",
    "    with open(path, \"r\") as readfile:\n",
    "        a = readfile.read()\n",
    "        lines = [list(map(int, s.split())) for s in a.split(\"\\n\")]\n",
    "    return lines"
   ]
  },
  {
   "cell_type": "code",
   "execution_count": 14,
   "metadata": {},
   "outputs": [],
   "source": [
    "def pyramid(input):\n",
    "    pyramid = []\n",
    "\n",
    "    for row in input:\n",
    "        line = [row]\n",
    "        step = []\n",
    "        result = sum(line[-1])\n",
    "\n",
    "        while (result > 0):\n",
    "            for ix, value in enumerate(line[-1]):\n",
    "                if (ix < (len(line[-1])-1)):\n",
    "                    value_1 = line[-1][ix]\n",
    "                    value_2 = line[-1][ix+1]\n",
    "                    diff = abs(value_1 - value_2)\n",
    "                    step.append(diff)\n",
    "            line.append(step)\n",
    "            step = []\n",
    "            result = sum(line[-1])\n",
    "        \n",
    "        pyramid.append(line)\n",
    "    return pyramid"
   ]
  },
  {
   "cell_type": "code",
   "execution_count": 20,
   "metadata": {},
   "outputs": [],
   "source": [
    "example = read_file(\"input01.txt\")"
   ]
  },
  {
   "cell_type": "code",
   "execution_count": 21,
   "metadata": {},
   "outputs": [],
   "source": [
    "pyramid = []\n",
    "\n",
    "for row in example:\n",
    "    line =  [row]\n",
    "    step = []\n",
    "    result = sum(line[-1])\n",
    "\n",
    "    while (result > 0):\n",
    "        for ix, value in enumerate(line[-1]):\n",
    "            if (ix < (len(line[-1])-1)):\n",
    "                value_1 = line[-1][ix]\n",
    "                value_2 = line[-1][ix+1]\n",
    "                diff = abs(value_1 - value_2)\n",
    "                step.append(diff)\n",
    "        line.append(step)\n",
    "        step = []\n",
    "        result = sum(line[-1])\n",
    "    \n",
    "    pyramid.append(line)"
   ]
  },
  {
   "cell_type": "code",
   "execution_count": 17,
   "metadata": {},
   "outputs": [
    {
     "data": {
      "text/plain": [
       "[[[0, 3, 6, 9, 12, 15], [3, 3, 3, 3, 3], [0, 0, 0, 0]],\n",
       " [[1, 3, 6, 10, 15, 21], [2, 3, 4, 5, 6], [1, 1, 1, 1], [0, 0, 0]],\n",
       " [[10, 13, 16, 21, 30, 45], [3, 3, 5, 9, 15], [0, 2, 4, 6], [2, 2, 2], [0, 0]]]"
      ]
     },
     "execution_count": 17,
     "metadata": {},
     "output_type": "execute_result"
    }
   ],
   "source": [
    "pyramid"
   ]
  },
  {
   "cell_type": "code",
   "execution_count": 22,
   "metadata": {},
   "outputs": [],
   "source": [
    "def last_value(input):\n",
    "    sum = 0\n",
    "    sum_list = []\n",
    "\n",
    "    for stage in pyramid:\n",
    "        for last_value in stage:\n",
    "            sum = sum + last_value[-1]\n",
    "        sum_list.append(sum)\n",
    "        sum = 0\n",
    "    return sum_list\n"
   ]
  },
  {
   "cell_type": "code",
   "execution_count": 23,
   "metadata": {},
   "outputs": [
    {
     "ename": "IndexError",
     "evalue": "list index out of range",
     "output_type": "error",
     "traceback": [
      "\u001b[0;31m---------------------------------------------------------------------------\u001b[0m",
      "\u001b[0;31mIndexError\u001b[0m                                Traceback (most recent call last)",
      "Cell \u001b[0;32mIn[23], line 1\u001b[0m\n\u001b[0;32m----> 1\u001b[0m \u001b[38;5;28msum\u001b[39m(\u001b[43mlast_value\u001b[49m\u001b[43m(\u001b[49m\u001b[43mpyramid\u001b[49m\u001b[43m)\u001b[49m)\n",
      "Cell \u001b[0;32mIn[22], line 7\u001b[0m, in \u001b[0;36mlast_value\u001b[0;34m(input)\u001b[0m\n\u001b[1;32m      5\u001b[0m \u001b[38;5;28;01mfor\u001b[39;00m stage \u001b[38;5;129;01min\u001b[39;00m pyramid:\n\u001b[1;32m      6\u001b[0m     \u001b[38;5;28;01mfor\u001b[39;00m last_value \u001b[38;5;129;01min\u001b[39;00m stage:\n\u001b[0;32m----> 7\u001b[0m         \u001b[38;5;28msum\u001b[39m \u001b[38;5;241m=\u001b[39m \u001b[38;5;28msum\u001b[39m \u001b[38;5;241m+\u001b[39m \u001b[43mlast_value\u001b[49m\u001b[43m[\u001b[49m\u001b[38;5;241;43m-\u001b[39;49m\u001b[38;5;241;43m1\u001b[39;49m\u001b[43m]\u001b[49m\n\u001b[1;32m      8\u001b[0m     sum_list\u001b[38;5;241m.\u001b[39mappend(\u001b[38;5;28msum\u001b[39m)\n\u001b[1;32m      9\u001b[0m     \u001b[38;5;28msum\u001b[39m \u001b[38;5;241m=\u001b[39m \u001b[38;5;241m0\u001b[39m\n",
      "\u001b[0;31mIndexError\u001b[0m: list index out of range"
     ]
    }
   ],
   "source": [
    "sum(last_value(pyramid))"
   ]
  }
 ],
 "metadata": {
  "kernelspec": {
   "display_name": "Python 3",
   "language": "python",
   "name": "python3"
  },
  "language_info": {
   "codemirror_mode": {
    "name": "ipython",
    "version": 3
   },
   "file_extension": ".py",
   "mimetype": "text/x-python",
   "name": "python",
   "nbconvert_exporter": "python",
   "pygments_lexer": "ipython3",
   "version": "3.12.1"
  }
 },
 "nbformat": 4,
 "nbformat_minor": 2
}
