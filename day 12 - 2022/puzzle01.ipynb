{
 "cells": [
  {
   "cell_type": "code",
   "execution_count": 50,
   "metadata": {},
   "outputs": [],
   "source": [
    "def read_file(path):\n",
    "    with open(path, \"r\") as readfile:\n",
    "        a = readfile.read()\n",
    "        lines = a.split(\"\\n\")\n",
    "    return lines"
   ]
  },
  {
   "cell_type": "code",
   "execution_count": 49,
   "metadata": {},
   "outputs": [],
   "source": [
    "def search_start_end(matrix):\n",
    "    for ix, line in enumerate(matrix):\n",
    "        for iy, value in enumerate(line):\n",
    "            if (value == \"S\"):\n",
    "                start = (ix,iy)\n",
    "            elif (value == \"E\"):\n",
    "                end = (ix,iy)\n",
    "\n",
    "    return start, end  "
   ]
  },
  {
   "cell_type": "code",
   "execution_count": 48,
   "metadata": {},
   "outputs": [],
   "source": [
    "def dimensions(matrix):\n",
    "    x_dim, y_dim = len(matrix), len(matrix[0])\n",
    "    return x_dim, y_dim"
   ]
  },
  {
   "cell_type": "code",
   "execution_count": 84,
   "metadata": {},
   "outputs": [],
   "source": [
    "def check_surroundings(position, matrix):\n",
    "    ix, iy = position[0], position[1]\n",
    "    x_dim, y_dim = dimensions(matrix)\n",
    "    if (ix == 0):\n",
    "        if (iy == 0):\n",
    "            #TOPLEFT\n",
    "            return (right(position, matrix), down(position,matrix))\n",
    "        elif (iy > 0 and iy < (y_dim-1)):\n",
    "            #TOP\n",
    "            return (right(position, matrix), down(position, matrix), left(position, matrix))\n",
    "        elif (iy == (y_dim-1)):\n",
    "            #TOPRIGHT\n",
    "            return (down(position, matrix), left(position, matrix))\n",
    "    elif (ix > 0 and ix < (x_dim-1)):\n",
    "        if (iy == 0):\n",
    "            #LEFT\n",
    "            return (right(position, matrix), down(position, matrix), up(position, matrix))\n",
    "        elif (iy > 0 and iy < (y_dim-1)):\n",
    "            #CENTRAL\n",
    "            return (right(position, matrix), down(position, matrix), left(position, matrix), up(position, matrix))\n",
    "        elif (iy == (y_dim-1)):\n",
    "            #RIGHT\n",
    "            return (down(position, matrix), left(position, matrix), up(position, matrix))\n",
    "    elif (ix == (x_dim-1)):\n",
    "        if (iy == 0):\n",
    "            #BOTTOM LEFT\n",
    "            return (right(position, matrix), up(position, matrix))\n",
    "        elif (iy > 0 and iy < (y_dim-1)):\n",
    "            #CENTRAL\n",
    "            return (right(position, matrix), left(position, matrix), up(position, matrix))\n",
    "        elif (iy == (y_dim-1)):\n",
    "            #RIGHT\n",
    "            return (left(position, matrix), up(position, matrix))       "
   ]
  },
  {
   "cell_type": "code",
   "execution_count": 85,
   "metadata": {},
   "outputs": [],
   "source": [
    "def up(position, matrix):\n",
    "    ix, iy = position[0], position[1]\n",
    "    return matrix[ix-1][iy]\n",
    "\n",
    "def right(position, matrix):\n",
    "    ix, iy = position[0], position[1]\n",
    "    return matrix[ix][iy+1]\n",
    "\n",
    "def down(position, matrix):\n",
    "    ix, iy = position[0], position[1]\n",
    "    return matrix[ix+1][iy]\n",
    "\n",
    "def left(position, matrix):\n",
    "    ix, iy = position[0], position[1]\n",
    "    return matrix[ix][iy-1]"
   ]
  },
  {
   "cell_type": "code",
   "execution_count": 51,
   "metadata": {},
   "outputs": [],
   "source": [
    "matrix = read_file(\"example01.txt\")\n",
    "start, end = search_start_end(matrix)"
   ]
  },
  {
   "cell_type": "code",
   "execution_count": null,
   "metadata": {},
   "outputs": [],
   "source": [
    "surroundings = check_surroundings(start, matrix)\n",
    "start = 0\n",
    "around = []\n",
    "\n",
    "for surrounding in surroundings:\n",
    "    position = lowercase_letters.index(surrounding) + 1\n",
    "    around.append(position)\n",
    "    for i in around:\n",
    "        if \n"
   ]
  },
  {
   "cell_type": "code",
   "execution_count": 93,
   "metadata": {},
   "outputs": [
    {
     "name": "stdout",
     "output_type": "stream",
     "text": [
      "1\n",
      "1\n"
     ]
    }
   ],
   "source": [
    "for i in surroundings:\n",
    "    print(lowercase_letters.index(i)+1)"
   ]
  },
  {
   "cell_type": "code",
   "execution_count": 90,
   "metadata": {},
   "outputs": [
    {
     "ename": "ValueError",
     "evalue": "('a', 'a') is not in list",
     "output_type": "error",
     "traceback": [
      "\u001b[0;31m---------------------------------------------------------------------------\u001b[0m",
      "\u001b[0;31mValueError\u001b[0m                                Traceback (most recent call last)",
      "Cell \u001b[0;32mIn[90], line 3\u001b[0m\n\u001b[1;32m      1\u001b[0m lowercase_letters \u001b[38;5;241m=\u001b[39m [\u001b[38;5;28mchr\u001b[39m(i) \u001b[38;5;28;01mfor\u001b[39;00m i \u001b[38;5;129;01min\u001b[39;00m \u001b[38;5;28mrange\u001b[39m(\u001b[38;5;241m97\u001b[39m, \u001b[38;5;241m123\u001b[39m)]\n\u001b[0;32m----> 3\u001b[0m \u001b[43mlowercase_letters\u001b[49m\u001b[38;5;241;43m.\u001b[39;49m\u001b[43mindex\u001b[49m\u001b[43m(\u001b[49m\u001b[43msurroundings\u001b[49m\u001b[43m)\u001b[49m\n",
      "\u001b[0;31mValueError\u001b[0m: ('a', 'a') is not in list"
     ]
    }
   ],
   "source": [
    "lowercase_letters = [chr(i) for i in range(97, 123)]\n",
    "\n",
    "lowercase_letters.index(surroundings)"
   ]
  }
 ],
 "metadata": {
  "kernelspec": {
   "display_name": "Python 3",
   "language": "python",
   "name": "python3"
  },
  "language_info": {
   "codemirror_mode": {
    "name": "ipython",
    "version": 3
   },
   "file_extension": ".py",
   "mimetype": "text/x-python",
   "name": "python",
   "nbconvert_exporter": "python",
   "pygments_lexer": "ipython3",
   "version": "3.12.1"
  }
 },
 "nbformat": 4,
 "nbformat_minor": 2
}
