{
 "cells": [
  {
   "cell_type": "code",
   "execution_count": 2,
   "metadata": {},
   "outputs": [],
   "source": [
    "with open(\"example2.txt\", \"r\") as readfile:\n",
    "    a = readfile.read()\n",
    "    lines = a.split(\"\\n\")"
   ]
  },
  {
   "cell_type": "code",
   "execution_count": 6,
   "metadata": {},
   "outputs": [],
   "source": [
    "WORD_TO_DIGIT_MAP = {\n",
    "    \"one\": \"1\",\n",
    "    \"two\": \"2\",\n",
    "    \"three\": \"3\",\n",
    "    \"four\": \"4\",\n",
    "    \"five\": \"5\",\n",
    "    \"six\": \"6\",\n",
    "    \"seven\": \"7\",\n",
    "    \"eight\": \"8\",\n",
    "    \"nine\": \"9\"\n",
    "}"
   ]
  },
  {
   "cell_type": "code",
   "execution_count": 4,
   "metadata": {},
   "outputs": [],
   "source": [
    "lines_replaced = []\n",
    "\n",
    "for i in lines:\n",
    "    for (j,k) in zip(letters, number):\n",
    "        lines_replaced.append(i.replace(j,k))"
   ]
  },
  {
   "cell_type": "code",
   "execution_count": 5,
   "metadata": {},
   "outputs": [
    {
     "data": {
      "text/plain": [
       "['two1nine',\n",
       " '21nine',\n",
       " 'two1nine',\n",
       " 'two1nine',\n",
       " 'two1nine',\n",
       " 'two1nine',\n",
       " 'two1nine',\n",
       " 'two1nine',\n",
       " 'two19',\n",
       " 'two1nine',\n",
       " 'eightwothree',\n",
       " 'eigh2three',\n",
       " 'eightwo3',\n",
       " 'eightwothree',\n",
       " 'eightwothree',\n",
       " 'eightwothree',\n",
       " 'eightwothree',\n",
       " '8wothree',\n",
       " 'eightwothree',\n",
       " 'eightwothree',\n",
       " 'abc12threexyz',\n",
       " 'abcone2threexyz',\n",
       " 'abcone23xyz',\n",
       " 'abcone2threexyz',\n",
       " 'abcone2threexyz',\n",
       " 'abcone2threexyz',\n",
       " 'abcone2threexyz',\n",
       " 'abcone2threexyz',\n",
       " 'abcone2threexyz',\n",
       " 'abcone2threexyz',\n",
       " 'xtw13four',\n",
       " 'x2ne3four',\n",
       " 'xtwone3four',\n",
       " 'xtwone34',\n",
       " 'xtwone3four',\n",
       " 'xtwone3four',\n",
       " 'xtwone3four',\n",
       " 'xtwone3four',\n",
       " 'xtwone3four',\n",
       " 'xtwone3four',\n",
       " '4nineeightseven2',\n",
       " '4nineeightseven2',\n",
       " '4nineeightseven2',\n",
       " '4nineeightseven2',\n",
       " '4nineeightseven2',\n",
       " '4nineeightseven2',\n",
       " '4nineeight72',\n",
       " '4nine8seven2',\n",
       " '49eightseven2',\n",
       " '4nineeightseven2',\n",
       " 'z1ight234',\n",
       " 'zoneight234',\n",
       " 'zoneight234',\n",
       " 'zoneight234',\n",
       " 'zoneight234',\n",
       " 'zoneight234',\n",
       " 'zoneight234',\n",
       " 'zon8234',\n",
       " 'zoneight234',\n",
       " 'zoneight234',\n",
       " '7pqrstsixteen',\n",
       " '7pqrstsixteen',\n",
       " '7pqrstsixteen',\n",
       " '7pqrstsixteen',\n",
       " '7pqrstsixteen',\n",
       " '7pqrst6teen',\n",
       " '7pqrstsixteen',\n",
       " '7pqrstsixteen',\n",
       " '7pqrstsixteen',\n",
       " '7pqrstsixteen']"
      ]
     },
     "execution_count": 5,
     "metadata": {},
     "output_type": "execute_result"
    }
   ],
   "source": [
    "lines_replaced"
   ]
  },
  {
   "cell_type": "code",
   "execution_count": null,
   "metadata": {},
   "outputs": [],
   "source": [
    "txt = \"I like bananas\"\n",
    "\n",
    "x = txt.replace(\"bananas\", \"apples\")\n",
    "\n",
    "print(x)"
   ]
  }
 ],
 "metadata": {
  "kernelspec": {
   "display_name": ".venv",
   "language": "python",
   "name": "python3"
  },
  "language_info": {
   "codemirror_mode": {
    "name": "ipython",
    "version": 3
   },
   "file_extension": ".py",
   "mimetype": "text/x-python",
   "name": "python",
   "nbconvert_exporter": "python",
   "pygments_lexer": "ipython3",
   "version": "3.12.1"
  }
 },
 "nbformat": 4,
 "nbformat_minor": 2
}
