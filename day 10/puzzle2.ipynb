{
 "cells": [
  {
   "cell_type": "code",
   "execution_count": 1,
   "metadata": {},
   "outputs": [],
   "source": [
    "import numpy as np"
   ]
  },
  {
   "cell_type": "code",
   "execution_count": 24,
   "metadata": {},
   "outputs": [],
   "source": [
    "with open(\"example5.txt\", \"r\") as readfile:\n",
    "    a = readfile.read()\n",
    "    lines = a.split(\"\\n\")"
   ]
  },
  {
   "cell_type": "code",
   "execution_count": 3,
   "metadata": {},
   "outputs": [],
   "source": [
    "def start_position(lines):\n",
    "    #It checks where is the start position and returns its coordinates\n",
    "\n",
    "    for idx, line in enumerate(lines):\n",
    "        for idy, character in enumerate(line):\n",
    "            if (character == 'S'):\n",
    "                return (idx,idy)"
   ]
  },
  {
   "cell_type": "code",
   "execution_count": 4,
   "metadata": {},
   "outputs": [],
   "source": [
    "def first_iteration(idx,idy):\n",
    "    #It checks in clockwise direction starting from the north what is the next step in the path, and returns its coordinates\n",
    "    #north\n",
    "    if (lines[idx-1][idy] == '|'):\n",
    "        return (idx-1, idy, \"S\")\n",
    "   #north east\n",
    "    elif (lines[idx-1][idy] == 'F'):\n",
    "        return (idx-1, idy+1, \"S\")\n",
    "    #east\n",
    "    elif (lines[idx][idy+1] == '-'):\n",
    "        return (idx, idy+1, \"W\")\n",
    "    elif (lines[idx][idy+1] == '7'):\n",
    "        return (idx+1, idy+1, 'N')\n",
    "    #south east\n",
    "    elif (lines[idx+1][idy+1] == 'L'):\n",
    "        return (idx+1, idy+1, \"W\")\n",
    "    #south\n",
    "    elif (lines[idx+1][idy] == '|'):\n",
    "        return (idx+1, idy, \"N\")\n",
    "    #south west\n",
    "    elif (lines[idx+1][idy-1] == 'J'):\n",
    "        return (idx+1, idy-1, \"N\")\n",
    "    #west\n",
    "    elif (lines[idx][idy-1] == '-'):\n",
    "        return (idx, idy-1, \"E\")\n",
    "    #northwest\n",
    "    elif (lines[idx-1][idy-1] == 'L'):\n",
    "        return (idx-1, idy-1, \"E\")"
   ]
  },
  {
   "cell_type": "code",
   "execution_count": 5,
   "metadata": {},
   "outputs": [],
   "source": [
    "def next_iterations(idx,idy,origen):\n",
    "    #It computes the next coordinates of the path\n",
    "    if (lines[idx][idy] == \"|\"):\n",
    "        if (origen == \"S\"):\n",
    "            return (idx-1, idy, \"S\")\n",
    "        elif (origen == \"N\"):\n",
    "            return (idx+1, idy, \"N\")\n",
    "    elif (lines[idx][idy] == \"-\"):\n",
    "        if (origen == \"E\"):\n",
    "            return (idx,idy-1, \"E\")\n",
    "        elif (origen == \"W\"):\n",
    "            return (idx, idy+1, \"W\")\n",
    "    elif (lines[idx][idy] == \"L\"):\n",
    "        if (origen == \"E\"):\n",
    "            return (idx-1, idy, \"S\")\n",
    "        elif (origen == \"N\"):\n",
    "            return (idx, idy+1, \"W\")\n",
    "    elif (lines[idx][idy] == \"J\"):\n",
    "        if (origen == \"N\"):\n",
    "            return (idx, idy-1, \"E\")\n",
    "        elif (origen == \"W\"):\n",
    "            return (idx-1, idy, \"S\")\n",
    "    elif (lines[idx][idy] == \"7\"):\n",
    "        if (origen == \"S\"):\n",
    "            return (idx, idy-1, \"E\")\n",
    "        elif (origen == \"W\"):\n",
    "            return (idx+1, idy, \"N\")\n",
    "    elif (lines[idx][idy] == \"F\"):\n",
    "        if (origen == \"S\"):\n",
    "            return (idx, idy+1, \"W\")\n",
    "        elif (origen == \"E\"):\n",
    "            return (idx+1, idy, \"N\")\n",
    "    elif (lines[idx][idy] == \"S\"):\n",
    "        return \"end\""
   ]
  },
  {
   "cell_type": "code",
   "execution_count": 6,
   "metadata": {},
   "outputs": [],
   "source": [
    "def trail_func(lines):\n",
    "    #It computes the path to be followed\n",
    "    trail = []\n",
    "    start = start_position(lines)\n",
    "    trail.append(start)\n",
    "    step = first_iteration(start[0], start[1])\n",
    "    trail.append(step[0:2])\n",
    "\n",
    "    while (step != \"end\"):\n",
    "        step = next_iterations(step[0], step[1], step[2])\n",
    "        if isinstance(step[0], int):\n",
    "            trail.append(step[0:2])\n",
    "    \n",
    "    return trail\n",
    "    "
   ]
  },
  {
   "cell_type": "code",
   "execution_count": 7,
   "metadata": {},
   "outputs": [],
   "source": [
    "def zero_matrix(size_x, size_y):\n",
    "    #It creates an empty matrix\n",
    "    zero = np.zeros((size_x, size_y), dtype=int)\n",
    "    return zero"
   ]
  },
  {
   "cell_type": "code",
   "execution_count": 25,
   "metadata": {},
   "outputs": [],
   "source": [
    "zero = zero_matrix(len(lines), len(lines[0]))\n",
    "left = zero_matrix(len(lines), len(lines[0]))\n",
    "right = zero_matrix(len(lines), len(lines[0]))\n",
    "\n",
    "for coord_x, coord_y in trail_func(lines):\n",
    "    zero[coord_x][coord_y] = 1"
   ]
  },
  {
   "cell_type": "code",
   "execution_count": 26,
   "metadata": {},
   "outputs": [],
   "source": [
    "n = 0\n",
    "\n",
    "for ix, row in enumerate(zero):\n",
    "    for iy, value in enumerate(row):\n",
    "        if (value == 0) and (sum(zero[ix][(iy+1):])%2 != 0):\n",
    "            left[ix][iy] = 2"
   ]
  },
  {
   "cell_type": "code",
   "execution_count": 27,
   "metadata": {},
   "outputs": [
    {
     "data": {
      "text/plain": [
       "array([[0, 1, 1, 1, 1, 1, 1, 1, 1, 1, 1, 1, 1, 1, 1, 1, 0, 0, 0, 0],\n",
       "       [0, 1, 1, 1, 1, 1, 1, 1, 1, 1, 1, 1, 1, 1, 1, 1, 0, 0, 0, 0],\n",
       "       [0, 1, 1, 0, 1, 1, 1, 1, 1, 1, 1, 1, 1, 1, 1, 1, 0, 0, 0, 0],\n",
       "       [1, 1, 1, 1, 1, 1, 1, 1, 1, 1, 1, 1, 1, 1, 0, 1, 1, 1, 0, 0],\n",
       "       [1, 1, 1, 1, 0, 1, 1, 0, 0, 0, 1, 1, 1, 0, 1, 1, 1, 1, 1, 0],\n",
       "       [0, 0, 0, 0, 1, 1, 1, 0, 0, 1, 1, 1, 1, 1, 1, 1, 1, 1, 1, 1],\n",
       "       [0, 0, 0, 0, 1, 1, 0, 1, 1, 1, 1, 1, 1, 1, 0, 1, 1, 1, 1, 1],\n",
       "       [0, 0, 0, 0, 0, 1, 1, 1, 1, 1, 1, 1, 1, 1, 1, 1, 1, 0, 1, 1],\n",
       "       [0, 0, 0, 0, 1, 1, 1, 1, 1, 0, 1, 1, 0, 1, 1, 1, 1, 0, 0, 0],\n",
       "       [0, 0, 0, 0, 1, 1, 1, 1, 1, 0, 1, 1, 0, 1, 1, 1, 1, 0, 0, 0]])"
      ]
     },
     "execution_count": 27,
     "metadata": {},
     "output_type": "execute_result"
    }
   ],
   "source": [
    "zero"
   ]
  },
  {
   "cell_type": "code",
   "execution_count": 28,
   "metadata": {},
   "outputs": [
    {
     "data": {
      "text/plain": [
       "array([[2, 0, 0, 0, 0, 0, 0, 0, 0, 0, 0, 0, 0, 0, 0, 0, 0, 0, 0, 0],\n",
       "       [2, 0, 0, 0, 0, 0, 0, 0, 0, 0, 0, 0, 0, 0, 0, 0, 0, 0, 0, 0],\n",
       "       [0, 0, 0, 0, 0, 0, 0, 0, 0, 0, 0, 0, 0, 0, 0, 0, 0, 0, 0, 0],\n",
       "       [0, 0, 0, 0, 0, 0, 0, 0, 0, 0, 0, 0, 0, 0, 2, 0, 0, 0, 0, 0],\n",
       "       [0, 0, 0, 0, 0, 0, 0, 0, 0, 0, 0, 0, 0, 2, 0, 0, 0, 0, 0, 0],\n",
       "       [0, 0, 0, 0, 0, 0, 0, 2, 2, 0, 0, 0, 0, 0, 0, 0, 0, 0, 0, 0],\n",
       "       [0, 0, 0, 0, 0, 0, 0, 0, 0, 0, 0, 0, 0, 0, 2, 0, 0, 0, 0, 0],\n",
       "       [0, 0, 0, 0, 0, 0, 0, 0, 0, 0, 0, 0, 0, 0, 0, 0, 0, 0, 0, 0],\n",
       "       [2, 2, 2, 2, 0, 0, 0, 0, 0, 0, 0, 0, 0, 0, 0, 0, 0, 0, 0, 0],\n",
       "       [2, 2, 2, 2, 0, 0, 0, 0, 0, 0, 0, 0, 0, 0, 0, 0, 0, 0, 0, 0]])"
      ]
     },
     "execution_count": 28,
     "metadata": {},
     "output_type": "execute_result"
    }
   ],
   "source": [
    "left"
   ]
  },
  {
   "cell_type": "code",
   "execution_count": 29,
   "metadata": {},
   "outputs": [],
   "source": [
    "n = 0\n",
    "\n",
    "for ix, row in enumerate(zero):\n",
    "    for iy, value in enumerate(reversed(row)):\n",
    "        if (value == 0) and (sum(zero[ix][(iy+1):])%2 != 0):\n",
    "            right[ix][iy] = 2"
   ]
  },
  {
   "cell_type": "code",
   "execution_count": 30,
   "metadata": {},
   "outputs": [
    {
     "data": {
      "text/plain": [
       "array([[0, 0, 0, 0, 0, 0, 0, 0, 0, 0, 0, 0, 0, 0, 0, 0, 0, 2, 0, 2],\n",
       "       [0, 0, 0, 0, 0, 0, 0, 0, 0, 0, 0, 0, 0, 0, 0, 0, 0, 2, 0, 2],\n",
       "       [0, 0, 0, 0, 0, 0, 0, 0, 0, 0, 0, 0, 0, 0, 0, 0, 0, 0, 2, 0],\n",
       "       [0, 0, 0, 0, 0, 0, 0, 0, 0, 0, 0, 0, 0, 0, 2, 0, 0, 0, 2, 0],\n",
       "       [0, 0, 0, 0, 2, 0, 0, 2, 0, 2, 0, 0, 0, 0, 0, 0, 0, 0, 0, 2],\n",
       "       [0, 2, 0, 2, 0, 0, 0, 2, 0, 0, 0, 0, 0, 0, 0, 0, 0, 0, 0, 0],\n",
       "       [0, 2, 0, 2, 0, 0, 2, 0, 0, 0, 0, 0, 0, 0, 0, 0, 0, 0, 0, 0],\n",
       "       [0, 2, 0, 0, 2, 0, 0, 0, 0, 0, 0, 0, 0, 0, 0, 0, 0, 0, 0, 0],\n",
       "       [0, 0, 0, 0, 0, 0, 0, 0, 0, 2, 0, 0, 2, 0, 0, 0, 0, 2, 2, 2],\n",
       "       [0, 0, 0, 0, 0, 0, 0, 0, 0, 2, 0, 0, 2, 0, 0, 0, 0, 2, 2, 2]])"
      ]
     },
     "execution_count": 30,
     "metadata": {},
     "output_type": "execute_result"
    }
   ],
   "source": [
    "right = np.flip(right, axis=1)\n",
    "right"
   ]
  },
  {
   "cell_type": "code",
   "execution_count": 31,
   "metadata": {},
   "outputs": [],
   "source": [
    "overlap = left + right"
   ]
  },
  {
   "cell_type": "code",
   "execution_count": 32,
   "metadata": {},
   "outputs": [
    {
     "data": {
      "text/plain": [
       "array([[2, 0, 0, 0, 0, 0, 0, 0, 0, 0, 0, 0, 0, 0, 0, 0, 0, 2, 0, 2],\n",
       "       [2, 0, 0, 0, 0, 0, 0, 0, 0, 0, 0, 0, 0, 0, 0, 0, 0, 2, 0, 2],\n",
       "       [0, 0, 0, 0, 0, 0, 0, 0, 0, 0, 0, 0, 0, 0, 0, 0, 0, 0, 2, 0],\n",
       "       [0, 0, 0, 0, 0, 0, 0, 0, 0, 0, 0, 0, 0, 0, 4, 0, 0, 0, 2, 0],\n",
       "       [0, 0, 0, 0, 2, 0, 0, 2, 0, 2, 0, 0, 0, 2, 0, 0, 0, 0, 0, 2],\n",
       "       [0, 2, 0, 2, 0, 0, 0, 4, 2, 0, 0, 0, 0, 0, 0, 0, 0, 0, 0, 0],\n",
       "       [0, 2, 0, 2, 0, 0, 2, 0, 0, 0, 0, 0, 0, 0, 2, 0, 0, 0, 0, 0],\n",
       "       [0, 2, 0, 0, 2, 0, 0, 0, 0, 0, 0, 0, 0, 0, 0, 0, 0, 0, 0, 0],\n",
       "       [2, 2, 2, 2, 0, 0, 0, 0, 0, 2, 0, 0, 2, 0, 0, 0, 0, 2, 2, 2],\n",
       "       [2, 2, 2, 2, 0, 0, 0, 0, 0, 2, 0, 0, 2, 0, 0, 0, 0, 2, 2, 2]])"
      ]
     },
     "execution_count": 32,
     "metadata": {},
     "output_type": "execute_result"
    }
   ],
   "source": [
    "overlap"
   ]
  },
  {
   "cell_type": "code",
   "execution_count": 33,
   "metadata": {},
   "outputs": [],
   "source": [
    "n = 0\n",
    "\n",
    "for row in overlap:\n",
    "    for value in row:\n",
    "        if value == 4:\n",
    "            n = n + 1"
   ]
  },
  {
   "cell_type": "code",
   "execution_count": 34,
   "metadata": {},
   "outputs": [
    {
     "data": {
      "text/plain": [
       "2"
      ]
     },
     "execution_count": 34,
     "metadata": {},
     "output_type": "execute_result"
    }
   ],
   "source": [
    "n"
   ]
  }
 ],
 "metadata": {
  "kernelspec": {
   "display_name": "Python 3",
   "language": "python",
   "name": "python3"
  },
  "language_info": {
   "codemirror_mode": {
    "name": "ipython",
    "version": 3
   },
   "file_extension": ".py",
   "mimetype": "text/x-python",
   "name": "python",
   "nbconvert_exporter": "python",
   "pygments_lexer": "ipython3",
   "version": "3.12.1"
  }
 },
 "nbformat": 4,
 "nbformat_minor": 2
}
