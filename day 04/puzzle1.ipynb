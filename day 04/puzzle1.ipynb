{
 "cells": [
  {
   "cell_type": "code",
   "execution_count": 2,
   "metadata": {},
   "outputs": [],
   "source": [
    "with open(\"example1.txt\", \"r\") as readfile:\n",
    "    a = readfile.read()\n",
    "    lines = a.split(\"\\n\")"
   ]
  },
  {
   "cell_type": "code",
   "execution_count": 6,
   "metadata": {},
   "outputs": [
    {
     "data": {
      "text/plain": [
       "str"
      ]
     },
     "execution_count": 6,
     "metadata": {},
     "output_type": "execute_result"
    }
   ],
   "source": [
    "type(line[0])"
   ]
  },
  {
   "cell_type": "code",
   "execution_count": 68,
   "metadata": {},
   "outputs": [],
   "source": [
    "winning = []\n",
    "own = []\n",
    "\n",
    "for line in lines:\n",
    "    first, rest = line.split(\"|\")\n",
    "    id_, card = first.split(\":\")\n",
    "    winning.append(card)\n",
    "    own.append(rest)\n",
    "\n",
    "for id, (number1, number2) in enumerate(zip(winning,own)):\n",
    "    winning[id] = number1.split()\n",
    "    own[id] = number2.split()\n",
    "\n",
    "winning = [list(map(int, sublist)) for sublist in winning]\n",
    "own = [list(map(int, sublist)) for sublist in own]\n"
   ]
  },
  {
   "cell_type": "code",
   "execution_count": 71,
   "metadata": {},
   "outputs": [
    {
     "data": {
      "text/plain": [
       "[{6, 9, 17, 31, 41, 48, 53, 83, 86},\n",
       " {13, 16, 17, 19, 20, 24, 30, 32, 61, 68, 82},\n",
       " {1, 14, 16, 21, 44, 53, 59, 63, 69, 72, 82},\n",
       " {5, 41, 51, 54, 58, 59, 69, 73, 76, 83, 84, 92},\n",
       " {12, 22, 26, 28, 30, 32, 36, 70, 82, 83, 87, 88, 93},\n",
       " {10, 11, 13, 18, 23, 31, 35, 36, 56, 67, 72, 74, 77}]"
      ]
     },
     "execution_count": 71,
     "metadata": {},
     "output_type": "execute_result"
    }
   ],
   "source": [
    "common"
   ]
  }
 ],
 "metadata": {
  "kernelspec": {
   "display_name": "Python 3",
   "language": "python",
   "name": "python3"
  },
  "language_info": {
   "codemirror_mode": {
    "name": "ipython",
    "version": 3
   },
   "file_extension": ".py",
   "mimetype": "text/x-python",
   "name": "python",
   "nbconvert_exporter": "python",
   "pygments_lexer": "ipython3",
   "version": "3.12.1"
  }
 },
 "nbformat": 4,
 "nbformat_minor": 2
}
